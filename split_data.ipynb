{
 "cells": [
  {
   "cell_type": "code",
   "execution_count": 25,
   "id": "172cd650-7d42-439f-ad8c-df2adffbca44",
   "metadata": {},
   "outputs": [],
   "source": [
    "import os\n",
    "import pandas as pd\n",
    "import numpy \n",
    "import random \n",
    "import shutil"
   ]
  },
  {
   "cell_type": "code",
   "execution_count": 17,
   "id": "2859fddd-ce4c-4de2-9b20-b80af256a925",
   "metadata": {},
   "outputs": [],
   "source": [
    "data_path = '/media/nicolas/Lenovo/Projects/computer_vision_platzi/input'"
   ]
  },
  {
   "cell_type": "code",
   "execution_count": 18,
   "id": "3c5f4c88-f866-4665-9024-280bc4dadc9d",
   "metadata": {},
   "outputs": [],
   "source": [
    "main_path = '/media/nicolas/Lenovo/Projects/computer_vision_platzi/input/dataset_filtrado'"
   ]
  },
  {
   "cell_type": "code",
   "execution_count": 19,
   "id": "fd617bf8-ec22-4274-ac43-dac0a38fc5a9",
   "metadata": {},
   "outputs": [],
   "source": [
    "content = os.listdir(main_path)"
   ]
  },
  {
   "cell_type": "code",
   "execution_count": 31,
   "id": "6df5eb97-ec8d-46a8-a408-0ab0d95013f9",
   "metadata": {},
   "outputs": [],
   "source": [
    "train_path = f\"{data_path}/train\"\n",
    "test_path = f\"{data_path}/test\""
   ]
  },
  {
   "cell_type": "code",
   "execution_count": 21,
   "id": "92b647b4-2c1a-4b04-a966-74ddda2ea2bb",
   "metadata": {},
   "outputs": [
    {
     "data": {
      "text/plain": [
       "'/media/nicolas/Lenovo/Projects/computer_vision_platzi/input/train'"
      ]
     },
     "execution_count": 21,
     "metadata": {},
     "output_type": "execute_result"
    }
   ],
   "source": [
    "train_path"
   ]
  },
  {
   "cell_type": "code",
   "execution_count": 22,
   "id": "ca109e31-d716-4922-969a-6f87c8ec29a5",
   "metadata": {},
   "outputs": [],
   "source": [
    "if not os.path.exists(train_path) and not os.path.exists(test_path):\n",
    "    os.mkdir(train_path)\n",
    "    os.mkdir(test_path)"
   ]
  },
  {
   "cell_type": "code",
   "execution_count": 26,
   "id": "1764c957-d7fe-4cc8-8b73-00fd722b5590",
   "metadata": {},
   "outputs": [],
   "source": [
    "train = 0.7\n",
    "for count in range(int(len(content)*train)):\n",
    "    random_img = random.choice(content)\n",
    "    random_abs_img = f\"{main_path}/{random_img}\"\n",
    "    target_image = f\"{train_path}/{random_img}\"\n",
    "    shutil.copyfile(random_abs_img,target_image)\n",
    "    content.remove(random_img)"
   ]
  },
  {
   "cell_type": "code",
   "execution_count": 36,
   "id": "1e73fb9e-c9e3-4579-971f-75dee01f4e65",
   "metadata": {},
   "outputs": [],
   "source": [
    "for img in content:\n",
    "    image_ = f\"{main_path}/{img}\"\n",
    "    target = f\"{test_path}/{img}\"\n",
    "    shutil.copyfile(image_,target)    "
   ]
  },
  {
   "cell_type": "code",
   "execution_count": null,
   "id": "ff7facc6-ef7b-4f30-84c0-b3a2d68e2e80",
   "metadata": {},
   "outputs": [],
   "source": []
  },
  {
   "cell_type": "code",
   "execution_count": null,
   "id": "b7ca2beb-4497-4e5e-85f0-4bb0a7d2a51b",
   "metadata": {},
   "outputs": [],
   "source": []
  }
 ],
 "metadata": {
  "kernelspec": {
   "display_name": "Python 3 (ipykernel)",
   "language": "python",
   "name": "python3"
  },
  "language_info": {
   "codemirror_mode": {
    "name": "ipython",
    "version": 3
   },
   "file_extension": ".py",
   "mimetype": "text/x-python",
   "name": "python",
   "nbconvert_exporter": "python",
   "pygments_lexer": "ipython3",
   "version": "3.8.10"
  }
 },
 "nbformat": 4,
 "nbformat_minor": 5
}
