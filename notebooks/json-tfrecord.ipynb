{
 "cells": [
  {
   "cell_type": "code",
   "execution_count": 10,
   "id": "6cca676e-4c47-4f8b-9352-733f68ab8544",
   "metadata": {},
   "outputs": [],
   "source": [
    "import os\n",
    "import pandas as pd\n",
    "import tensorflow as tf\n",
    "import json\n",
    "\n",
    "import pickle"
   ]
  },
  {
   "cell_type": "code",
   "execution_count": 12,
   "id": "26fc7cbf-a942-4c5a-a229-73c34391e830",
   "metadata": {},
   "outputs": [],
   "source": [
    "data_path = '../config/'"
   ]
  },
  {
   "cell_type": "code",
   "execution_count": 27,
   "id": "dd177c39-73e6-4611-8f86-ad0988f60697",
   "metadata": {},
   "outputs": [],
   "source": [
    "train_json = os.path.join(data_path,'train.json')\n",
    "test_json = os.path.join(data_path,'test.json')"
   ]
  },
  {
   "cell_type": "code",
   "execution_count": null,
   "id": "0d55605c-38cd-4ac9-be03-7af1dc507e03",
   "metadata": {},
   "outputs": [],
   "source": []
  },
  {
   "cell_type": "code",
   "execution_count": 85,
   "id": "2e66c99c-ebf5-4e56-b28f-9f8c8dca9760",
   "metadata": {},
   "outputs": [],
   "source": [
    "def json_to_csv(json_file,type_file):\n",
    "    data = open(json_file)\n",
    "    data = json.load(data)\n",
    "    csv_list = []\n",
    "    for obj in data:\n",
    "        width, height = obj['width'], obj['height']\n",
    "        img_name = obj['image']\n",
    "        for item in obj['tags']:\n",
    "            class_name = item['name']\n",
    "            xmin = item['pos']['x']\n",
    "            ymin = item['pos']['y']\n",
    "            ymax = item['pos']['y'] + item['pos']['h']\n",
    "            xmax = item['pos']['x'] + item['pos']['w']\n",
    "            value = (img_name,width,height,class_name,xmin,ymin,xmax,ymax)\n",
    "        csv_list.append(value)\n",
    "    df = pd.DataFrame(csv_list, columns = ['filename','width','height','class','xmin','ymin','xmax','ymax'])\n",
    "    df['filename'] = df['filename'].str.replace('%28','(')\n",
    "    df['filename'] = df['filename'].str.replace('%29',')')\n",
    "    df['filename'] = df['filename'].str.replace('+','')\n",
    "    path = f'../labels/{type_file}.csv'\n",
    "    df.to_csv(path,index = False) \n",
    "    return df\n",
    "    "
   ]
  },
  {
   "cell_type": "code",
   "execution_count": 86,
   "id": "05c4241b-803a-4f41-8676-4260924d9700",
   "metadata": {},
   "outputs": [
    {
     "name": "stderr",
     "output_type": "stream",
     "text": [
      "/tmp/ipykernel_106119/3055522663.py:19: FutureWarning: The default value of regex will change from True to False in a future version. In addition, single character regular expressions will *not* be treated as literal strings when regex=True.\n",
      "  df['filename'] = df['filename'].str.replace('+','')\n"
     ]
    }
   ],
   "source": [
    "csv_train = json_to_csv(train_json,'train')"
   ]
  },
  {
   "cell_type": "code",
   "execution_count": 87,
   "id": "41f3dee2-806c-4086-98e6-51a076410fcb",
   "metadata": {},
   "outputs": [
    {
     "name": "stderr",
     "output_type": "stream",
     "text": [
      "/tmp/ipykernel_106119/3055522663.py:19: FutureWarning: The default value of regex will change from True to False in a future version. In addition, single character regular expressions will *not* be treated as literal strings when regex=True.\n",
      "  df['filename'] = df['filename'].str.replace('+','')\n"
     ]
    }
   ],
   "source": [
    "csv_test = json_to_csv(test_json,'test')"
   ]
  },
  {
   "cell_type": "code",
   "execution_count": 89,
   "id": "a3071ac5-b7f8-45bb-a671-5113209c132e",
   "metadata": {},
   "outputs": [],
   "source": [
    "# run from root folder"
   ]
  },
  {
   "cell_type": "code",
   "execution_count": 45,
   "id": "cb543bb9-7bac-4bff-b343-e048b8c9dc3e",
   "metadata": {},
   "outputs": [],
   "source": [
    "#python3 src/generate_tfrecord.py --label0=\"Car\" --label1=\"Motorbike\" --csv_input=\"labels/test.csv\" --output_path=\"labels/test.record\" --img_path=\"/media/nicolas/Lenovo/Projects/computer_vision_platzi/input/dataset_final/test\""
   ]
  },
  {
   "cell_type": "code",
   "execution_count": 88,
   "id": "bdf7a892-896b-42c0-97d1-ec7c5451491e",
   "metadata": {},
   "outputs": [],
   "source": [
    "#python3 src/generate_tfrecord.py --label0=\"Car\" --label1=\"Motorbike\" --csv_input=\"labels/train.csv\" --output_path=\"labels/train.record\" --img_path=/media/nicolas/Lenovo/Projects/computer_vision_platzi/input/dataset_final/train"
   ]
  },
  {
   "cell_type": "code",
   "execution_count": null,
   "id": "9b4b3e08-68ea-4e95-8e89-1342780a1e2b",
   "metadata": {},
   "outputs": [],
   "source": []
  },
  {
   "cell_type": "code",
   "execution_count": null,
   "id": "a26c534c-f0dd-4d94-a481-f8bac7a3f03b",
   "metadata": {},
   "outputs": [],
   "source": []
  },
  {
   "cell_type": "code",
   "execution_count": null,
   "id": "318c3fe3-6d04-4189-b1ea-c133ae37b6da",
   "metadata": {},
   "outputs": [],
   "source": []
  }
 ],
 "metadata": {
  "kernelspec": {
   "display_name": "Python 3 (ipykernel)",
   "language": "python",
   "name": "python3"
  },
  "language_info": {
   "codemirror_mode": {
    "name": "ipython",
    "version": 3
   },
   "file_extension": ".py",
   "mimetype": "text/x-python",
   "name": "python",
   "nbconvert_exporter": "python",
   "pygments_lexer": "ipython3",
   "version": "3.8.10"
  }
 },
 "nbformat": 4,
 "nbformat_minor": 5
}
